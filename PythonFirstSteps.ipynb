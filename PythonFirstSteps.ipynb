{
 "cells": [
  {
   "cell_type": "markdown",
   "id": "4c17f3c4",
   "metadata": {},
   "source": [
    "# Learning\n",
    "\n",
    "This notebook contains some simple examples of using *Jupyter Notebook* and *Python3*"
   ]
  },
  {
   "cell_type": "markdown",
   "id": "d62259aa",
   "metadata": {},
   "source": [
    "## Example 1: *Hello, World*"
   ]
  },
  {
   "cell_type": "code",
   "execution_count": 9,
   "id": "e0b12d6a",
   "metadata": {},
   "outputs": [
    {
     "name": "stdout",
     "output_type": "stream",
     "text": [
      "Hello, Tapaswini\n",
      "\n"
     ]
    }
   ],
   "source": [
    "my_name = \"Tapaswini\"\n",
    "hello_statement = \"Hello, \" + my_name\n",
    "print(hello_statement, end = \"\\n\\n\")\n",
    "x = 10"
   ]
  },
  {
   "cell_type": "markdown",
   "id": "4270813c",
   "metadata": {},
   "source": [
    "## Example 2: World's *best* loop is here"
   ]
  },
  {
   "cell_type": "code",
   "execution_count": 10,
   "id": "a18b5a96",
   "metadata": {},
   "outputs": [
    {
     "name": "stdout",
     "output_type": "stream",
     "text": [
      "j = 1   x = 11\n",
      "j = 2   x = 13\n",
      "j = 3   x = 16\n",
      "j = 4   x = 20\n"
     ]
    }
   ],
   "source": [
    "for j in range(1, 5):\n",
    "    x += j\n",
    "    print(\"j = {}   x = {}\".format(j, x))"
   ]
  },
  {
   "cell_type": "code",
   "execution_count": null,
   "id": "ae0f2694",
   "metadata": {},
   "outputs": [],
   "source": []
  },
  {
   "cell_type": "code",
   "execution_count": null,
   "id": "b684a4a8",
   "metadata": {},
   "outputs": [],
   "source": []
  }
 ],
 "metadata": {
  "kernelspec": {
   "display_name": "Python 3",
   "language": "python",
   "name": "python3"
  },
  "language_info": {
   "codemirror_mode": {
    "name": "ipython",
    "version": 3
   },
   "file_extension": ".py",
   "mimetype": "text/x-python",
   "name": "python",
   "nbconvert_exporter": "python",
   "pygments_lexer": "ipython3",
   "version": "3.8.8"
  }
 },
 "nbformat": 4,
 "nbformat_minor": 5
}
